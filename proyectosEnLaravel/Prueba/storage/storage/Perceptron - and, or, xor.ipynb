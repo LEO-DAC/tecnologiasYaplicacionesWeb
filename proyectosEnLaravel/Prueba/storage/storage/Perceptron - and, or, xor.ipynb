{
 "cells": [
  {
   "cell_type": "markdown",
   "metadata": {},
   "source": [
    "# AND"
   ]
  },
  {
   "cell_type": "code",
   "execution_count": 33,
   "metadata": {},
   "outputs": [],
   "source": [
    "import numpy as np\n",
    "\n",
    "datos = np.array([[1,0,0],\n",
    "                 [1,0,1],\n",
    "                 [1,1,0],\n",
    "                 [1,1,1]])\n",
    "\n",
    "esperado = np.array([-1,\n",
    "                    -1,\n",
    "                    -1,\n",
    "                    1])\n",
    "\n",
    "LR = 0.5\n",
    "\n",
    "Ws = np.array([1,0.35,0.24])\n",
    "\n",
    "\n",
    "#-----------------------------------------------\n",
    "\n",
    "def salida(ins,datos,Ws):#Calculamos el valor de la salida esperada\n",
    "    s = 0\n",
    "    for i in range(datos[ins].size):\n",
    "        s += (datos[ins][i]*Ws[i])\n",
    "    return(s)\n",
    "\n",
    "def umbral(ins,datos,Ws):#Calculamos en que rango se encunetra el resultado\n",
    "    return(np.where(salida(ins,datos,Ws) >= 0, 1, -1))\n",
    "    \n",
    "def actualizar(w,n,e,s,x):\n",
    "    #print(w,n,e,s,x)\n",
    "    #print()\n",
    "    return(w+(n*(e-s)*x))\n",
    "    \n",
    "def proceso(datos,esperado,LR,Ws,dn=np.empty((4,3)),ix=1):#Se realiza todo el proceso de calculo\n",
    "    error = 0\n",
    "    for i in range(datos[:,0].size):#Se recorren todas las instancias\n",
    "        U = umbral(i,datos,Ws)\n",
    "        #print(U)\n",
    "        dn[i][ix] = U\n",
    "        if U!=esperado[i]:#Si el resultado no es correcto se actualiza\n",
    "            error+=1\n",
    "            for y in range(datos[i].size):\n",
    "                R = actualizar(Ws[y],LR,esperado[i],U,datos[i][y])\n",
    "                Ws[y] = R\n",
    "                #print(R)\n",
    "    #print(\"Errores: \",error)\n",
    "    return error\n",
    "    \n",
    "#proceso(datos,esperado,LR,Ws,error)"
   ]
  },
  {
   "cell_type": "code",
   "execution_count": 32,
   "metadata": {},
   "outputs": [
    {
     "name": "stdout",
     "output_type": "stream",
     "text": [
      "Generaciones:  0\n"
     ]
    },
    {
     "data": {
      "image/png": "[encoded data removed]",
      "text/plain": [
       "<Figure size 432x288 with 1 Axes>"
      ]
     },
     "metadata": {
      "needs_background": "light"
     },
     "output_type": "display_data"
    }
   ],
   "source": [
    "import matplotlib.pyplot as plt\n",
    "\n",
    "plt.plot(datos[0,1],datos[0,2],'ro')\n",
    "plt.plot(datos[1,1],datos[1,2],'ro')\n",
    "plt.plot(datos[2,1],datos[2,2],'ro')\n",
    "plt.plot(datos[3,1],datos[3,2],'go')\n",
    "pasadas=0\n",
    "while(proceso(datos,esperado,LR,Ws)!=0):\n",
    "    X1 = (-Ws[0]/Ws[1])\n",
    "    X2 = (-Ws[0]/Ws[2])\n",
    "    plt.plot([0,X1],[X2,0],'c--')\n",
    "    pasadas+=1\n",
    "    \n",
    "X1 = (-Ws[0]/Ws[1])\n",
    "X2 = (-Ws[0]/Ws[2])\n",
    "plt.plot([0,X1],[X2,0],'r-')\n",
    "\n",
    "plt.axis([-1,2,-1,2])\n",
    "plt.show\n",
    "\n",
    "print(\"Generaciones: \",pasadas)"
   ]
  },
  {
   "cell_type": "markdown",
   "metadata": {},
   "source": [
    "# OR"
   ]
  },
  {
   "cell_type": "code",
   "execution_count": 31,
   "metadata": {},
   "outputs": [
    {
     "name": "stdout",
     "output_type": "stream",
     "text": [
      "Generaciones:  5\n"
     ]
    },
    {
     "data": {
      "image/png": "[encoded data removed]",
      "text/plain": [
       "<Figure size 432x288 with 1 Axes>"
      ]
     },
     "metadata": {
      "needs_background": "light"
     },
     "output_type": "display_data"
    }
   ],
   "source": [
    "datos = np.array([[1,0,0],\n",
    "                 [1,0,1],\n",
    "                 [1,1,0],\n",
    "                 [1,1,1]])\n",
    "\n",
    "esperado = np.array([-1,\n",
    "                      1,\n",
    "                      1,\n",
    "                      1])\n",
    "\n",
    "LR = .3\n",
    "\n",
    "Ws = np.array([1.4,0.35,0.24])\n",
    "\n",
    "#-----------------------------------------------------\n",
    "\n",
    "import matplotlib.pyplot as plt\n",
    "\n",
    "plt.plot(datos[0,1],datos[0,2],'go')\n",
    "plt.plot(datos[1,1],datos[1,2],'ro')\n",
    "plt.plot(datos[2,1],datos[2,2],'ro')\n",
    "plt.plot(datos[3,1],datos[3,2],'ro')\n",
    "pasadas=0\n",
    "while(proceso(datos,esperado,LR,Ws)!=0):\n",
    "    X1 = (-Ws[0]/Ws[1])\n",
    "    X2 = (-Ws[0]/Ws[2])\n",
    "    plt.plot([0,X1],[X2,0],'c--')\n",
    "    pasadas+=1\n",
    "    \n",
    "X1 = (-Ws[0]/Ws[1])\n",
    "X2 = (-Ws[0]/Ws[2])\n",
    "plt.plot([0,X1],[X2,0],'r-')\n",
    "\n",
    "plt.axis([-1,2,-1,2])\n",
    "plt.show\n",
    "\n",
    "print(\"Generaciones: \",pasadas)"
   ]
  },
  {
   "cell_type": "code",
   "execution_count": null,
   "metadata": {},
   "outputs": [],
   "source": []
  }
 ],
 "metadata": {
  "kernelspec": {
   "display_name": "Python 3",
   "language": "python",
   "name": "python3"
  },
  "language_info": {
   "codemirror_mode": {
    "name": "ipython",
    "version": 3
   },
   "file_extension": ".py",
   "mimetype": "text/x-python",
   "name": "python",
   "nbconvert_exporter": "python",
   "pygments_lexer": "ipython3",
   "version": "3.6.7"
  }
 },
 "nbformat": 4,
 "nbformat_minor": 2
}
