{
 "cells": [
  {
   "cell_type": "code",
   "execution_count": 2,
   "metadata": {},
   "outputs": [],
   "source": [
    "import matplotlib.pyplot as plt\n",
    "import numpy as np\n",
    "from sklearn.datasets import load_iris\n",
    "\n",
    "iris = load_iris()\n",
    "X = iris.data\n",
    "Y = iris.target"
   ]
  },
  {
   "cell_type": "code",
   "execution_count": 3,
   "metadata": {},
   "outputs": [],
   "source": [
    "c1 = Y==0\n",
    "xc1=iris.data[0:50,0:2]\n",
    "xc1=np.asmatrix(xc1)\n",
    "xc2=iris.data[50:100,0:2]\n",
    "xc3=iris.data[100:150,0:2]"
   ]
  },
  {
   "cell_type": "code",
   "execution_count": 4,
   "metadata": {},
   "outputs": [
    {
     "name": "stdout",
     "output_type": "stream",
     "text": [
      "xc1\n",
      "all index\n",
      "[ 0  1  2  3  4  5  6  7  8  9 10 11 12 13 14 15 16 17 18 19 20 21 22 23\n",
      " 24 25 26 27 28 29 30 31 32 33 34 35 36 37 38 39 40 41 42 43 44 45 46 47\n",
      " 48 49]\n",
      "70% of index\n",
      "[ 1  3  4  5  7  8 11 12 14 16 17 18 19 21 22 23 24 25 27 28 32 33 34 37\n",
      " 38 39 40 41 42 43 45 46 47 48 49]\n",
      "30% of index\n",
      "[ 0  2  6  9 10 13 15 20 26 29 30 31 35 36 44]\n"
     ]
    }
   ],
   "source": [
    "#xc1\n",
    "print('xc1')\n",
    "xc1_shape = np.shape(xc1)\n",
    "xc1_rows = xc1_shape[0]\n",
    "#xc1_70\n",
    "xc1_train_size = np.around(xc1_rows*.7)\n",
    "xc1_test_size = xc1_rows - xc1_train_size\n",
    "#xc1_70\n",
    "xc1_train_set_index = np.random.choice(int(xc1_rows),int(xc1_train_size), replace = False)\n",
    "xc1_train_set_index = np.sort(xc1_train_set_index)\n",
    "xc1_train_set = np.sort(xc1_train_set_index)\n",
    "xc1_train_set = xc1[xc1_train_set_index,:]\n",
    "xc1_all_index = np.arange(0,xc1_rows)\n",
    "print('all index')\n",
    "print(xc1_all_index)\n",
    "print('70% of index')\n",
    "print(xc1_train_set_index)\n",
    "#xc1_30\n",
    "xc1_test_set_index = np.setxor1d(xc1_train_set_index,xc1_all_index)\n",
    "print('30% of index')\n",
    "print(xc1_test_set_index)\n",
    "xc1_test_set = xc1[xc1_test_set_index,:]"
   ]
  },
  {
   "cell_type": "code",
   "execution_count": 5,
   "metadata": {},
   "outputs": [
    {
     "name": "stdout",
     "output_type": "stream",
     "text": [
      "xc2\n",
      "all index\n",
      "[ 0  1  2  3  4  5  6  7  8  9 10 11 12 13 14 15 16 17 18 19 20 21 22 23\n",
      " 24 25 26 27 28 29 30 31 32 33 34 35 36 37 38 39 40 41 42 43 44 45 46 47\n",
      " 48 49]\n",
      "70% of index\n",
      "[ 0  1  2  3  4  6  7  8 10 11 12 14 15 17 18 20 21 22 23 25 27 29 35 36\n",
      " 37 38 40 41 43 44 45 46 47 48 49]\n",
      "30% of index\n",
      "[ 5  9 13 16 19 24 26 28 30 31 32 33 34 39 42]\n"
     ]
    }
   ],
   "source": [
    "#xc2\n",
    "print('xc2')\n",
    "xc2_shape = np.shape(xc2)\n",
    "xc2_rows = xc2_shape[0]\n",
    "xc2_train_size = np.around(xc2_rows*.7)\n",
    "xc2_test_size = xc2_rows - xc2_train_size\n",
    "#xc2_70\n",
    "xc2_train_set_index = np.random.choice(int(xc2_rows),int(xc2_train_size), replace = False)\n",
    "xc2_train_set_index = np.sort(xc2_train_set_index)\n",
    "xc2_train_set = np.sort(xc2_train_set_index)\n",
    "xc2_train_set = xc2[xc2_train_set_index,:]\n",
    "xc2_all_index = np.arange(0,xc2_rows)\n",
    "print('all index')\n",
    "print(xc2_all_index)\n",
    "print('70% of index')\n",
    "print(xc2_train_set_index)\n",
    "#xc2_30\n",
    "xc2_test_set_index = np.setxor1d(xc2_train_set_index,xc2_all_index)\n",
    "print('30% of index')\n",
    "print(xc2_test_set_index)\n",
    "xc2_test_set = xc2[xc2_test_set_index,:]"
   ]
  },
  {
   "cell_type": "code",
   "execution_count": 6,
   "metadata": {},
   "outputs": [
    {
     "name": "stdout",
     "output_type": "stream",
     "text": [
      "xc3\n",
      "all index\n",
      "[ 0  1  2  3  4  5  6  7  8  9 10 11 12 13 14 15 16 17 18 19 20 21 22 23\n",
      " 24 25 26 27 28 29 30 31 32 33 34 35 36 37 38 39 40 41 42 43 44 45 46 47\n",
      " 48 49]\n",
      "70% of index\n",
      "[ 2  3  6  7  8  9 10 11 12 14 15 17 18 19 20 21 23 24 28 29 30 31 32 33\n",
      " 34 35 37 38 39 40 41 43 44 48 49]\n",
      "30% of index\n",
      "[ 0  1  4  5 13 16 22 25 26 27 36 42 45 46 47]\n"
     ]
    }
   ],
   "source": [
    "#xc3\n",
    "print('xc3')\n",
    "xc3_shape = np.shape(xc3)\n",
    "xc3_rows = xc3_shape[0]\n",
    "xc3_train_size = np.around(xc3_rows*.7)\n",
    "xc3_test_size = xc3_rows - xc3_train_size\n",
    "#xc3_70\n",
    "xc3_train_set_index = np.random.choice(int(xc3_rows),int(xc3_train_size), replace = False)\n",
    "xc3_train_set_index = np.sort(xc3_train_set_index)\n",
    "xc3_train_set = np.sort(xc3_train_set_index)\n",
    "xc3_train_set = xc3[xc3_train_set_index,:]\n",
    "xc3_all_index = np.arange(0,xc3_rows)\n",
    "print('all index')\n",
    "print(xc3_all_index)\n",
    "print('70% of index')\n",
    "print(xc3_train_set_index)\n",
    "#xc3_30\n",
    "xc3_test_set_index = np.setxor1d(xc3_train_set_index,xc3_all_index)\n",
    "print('30% of index')\n",
    "print(xc3_test_set_index)\n",
    "xc3_test_set = xc2[xc3_test_set_index,:]"
   ]
  },
  {
   "cell_type": "code",
   "execution_count": 7,
   "metadata": {},
   "outputs": [],
   "source": [
    "yc1_70=iris.target[0:50]\n",
    "yc2_70=iris.target[50:100]\n",
    "yc3_70=iris.target[100:150]\n",
    "##3\n",
    "yc1_30=iris.target[0:50]\n",
    "yc2_30=iris.target[50:100]\n",
    "yc3_30=iris.target[100:150]"
   ]
  },
  {
   "cell_type": "code",
   "execution_count": 8,
   "metadata": {},
   "outputs": [
    {
     "name": "stdout",
     "output_type": "stream",
     "text": [
      "xtrain\n",
      "[ 1  3  4  5  7  8 11 12 14 16 17 18 19 21 22 23 24 25 27 28 32 33 34 37\n",
      " 38 39 40 41 42 43 45 46 47 48 49  0  1  2  3  4  6  7  8 10 11 12 14 15\n",
      " 17 18 20 21 22 23 25 27 29 35 36 37 38 40 41 43 44 45 46 47 48 49  2  3\n",
      "  6  7  8  9 10 11 12 14 15 17 18 19 20 21 23 24 28 29 30 31 32 33 34 35\n",
      " 37 38 39 40 41 43 44 48 49]\n"
     ]
    }
   ],
   "source": [
    "xtrain=np.concatenate((xc1_train_set_index, xc2_train_set_index, xc3_train_set_index), axis=0)\n",
    "#xtrain=xtrain.reshape(xtrain.size,1)\n",
    "print('xtrain')\n",
    "print(xtrain)"
   ]
  },
  {
   "cell_type": "code",
   "execution_count": 9,
   "metadata": {},
   "outputs": [
    {
     "name": "stdout",
     "output_type": "stream",
     "text": [
      "ytrain\n",
      "[0 0 0 0 0 0 0 0 0 0 0 0 0 0 0 0 0 0 0 0 0 0 0 0 0 0 0 0 0 0 0 0 0 0 0 0 0\n",
      " 0 0 0 0 0 0 0 0 0 0 0 0 0 1 1 1 1 1 1 1 1 1 1 1 1 1 1 1 1 1 1 1 1 1 1 1 1\n",
      " 1 1 1 1 1 1 1 1 1 1 1 1 1 1 1 1 1 1 1 1 1 1 1 1 1 1 2 2 2 2 2 2 2 2 2 2 2\n",
      " 2 2 2 2 2 2 2 2 2 2 2 2 2 2 2 2 2 2 2 2 2 2 2 2 2 2 2 2 2 2 2 2 2 2 2 2 2\n",
      " 2 2]\n"
     ]
    }
   ],
   "source": [
    "ytrain=np.concatenate((yc1_70, yc2_70,yc3_70), axis=0)\n",
    "print('ytrain')\n",
    "print(ytrain)"
   ]
  },
  {
   "cell_type": "code",
   "execution_count": 10,
   "metadata": {},
   "outputs": [
    {
     "name": "stdout",
     "output_type": "stream",
     "text": [
      "ytrain\n",
      "[ 0  2  6  9 10 13 15 20 26 29 30 31 35 36 44  5  9 13 16 19 24 26 28 30\n",
      " 31 32 33 34 39 42  0  1  4  5 13 16 22 25 26 27 36 42 45 46 47]\n"
     ]
    }
   ],
   "source": [
    "xtest=np.concatenate((xc1_test_set_index,xc2_test_set_index,xc3_test_set_index), axis=0)\n",
    "print('ytrain')\n",
    "print(xtest)"
   ]
  },
  {
   "cell_type": "code",
   "execution_count": 11,
   "metadata": {},
   "outputs": [
    {
     "name": "stdout",
     "output_type": "stream",
     "text": [
      "ytest\n",
      "[0 0 0 0 0 0 0 0 0 0 0 0 0 0 0 0 0 0 0 0 0 0 0 0 0 0 0 0 0 0 0 0 0 0 0 0 0\n",
      " 0 0 0 0 0 0 0 0 0 0 0 0 0 1 1 1 1 1 1 1 1 1 1 1 1 1 1 1 1 1 1 1 1 1 1 1 1\n",
      " 1 1 1 1 1 1 1 1 1 1 1 1 1 1 1 1 1 1 1 1 1 1 1 1 1 1 2 2 2 2 2 2 2 2 2 2 2\n",
      " 2 2 2 2 2 2 2 2 2 2 2 2 2 2 2 2 2 2 2 2 2 2 2 2 2 2 2 2 2 2 2 2 2 2 2 2 2\n",
      " 2 2]\n"
     ]
    }
   ],
   "source": [
    "ytest=np.concatenate((yc1_30, yc2_30,yc3_30), axis=0)\n",
    "print('ytest')\n",
    "print(ytest)"
   ]
  },
  {
   "cell_type": "code",
   "execution_count": 28,
   "metadata": {},
   "outputs": [
    {
     "name": "stdout",
     "output_type": "stream",
     "text": [
      "centroids\n",
      "[11 17 29]\n",
      "xtrain.shape\n",
      "(105,)\n",
      "square_distance shape\n",
      "(105, 3)\n",
      "centroids, shape\n",
      "(3,)\n"
     ]
    }
   ],
   "source": [
    "k=3\n",
    "print('centroids')\n",
    "#centroids=xc1_train_set_index[k:,]\n",
    "centroids=np.random.choice(xtrain, k)\n",
    "print(centroids)\n",
    "print('xtrain.shape')\n",
    "print(xtrain.shape)\n",
    "xtrain_num_rows=len(xtrain)\n",
    "#print(xtrain_num_rows)\n",
    "square_distance=np.zeros((xtrain_num_rows, k))\n",
    "#square_distance=np.zeros((centroids, k))\n",
    "print('square_distance shape')\n",
    "print(np.shape(square_distance))\n",
    "print('centroids, shape')\n",
    "print(np.shape(centroids))"
   ]
  },
  {
   "cell_type": "code",
   "execution_count": 26,
   "metadata": {},
   "outputs": [
    {
     "data": {
      "image/png": "[encoded data removed]",
      "text/plain": [
       "<Figure size 432x288 with 1 Axes>"
      ]
     },
     "metadata": {
      "needs_background": "light"
     },
     "output_type": "display_data"
    }
   ],
   "source": [
    "plt.subplot(1,2,1)\n",
    "plt.scatter(X[:,0], X[:,1], s=40,linewidths=5)\n",
    "plt.title('antes')\n",
    "#plt.show()\n",
    "colors = 10*[\"g\",\"r\",\"c\",\"b\",\"k\"]"
   ]
  },
  {
   "cell_type": "code",
   "execution_count": 17,
   "metadata": {},
   "outputs": [],
   "source": [
    "class k_means:\n",
    "    def __init__(self, k=3, tol=0.001, max_iter=10):\n",
    "        self.k = k\n",
    "        self.tol = tol\n",
    "        self.max_iter = max_iter\n",
    "        ######3\n",
    "    def fit(self,data):\n",
    "        #####33\n",
    "        self.centroids ={}\n",
    "        #####33\n",
    "        for i in range(self.k):\n",
    "            self.centroids[i] = data[i]\n",
    "            #####33\n",
    "        for i in range(self.max_iter):\n",
    "            self.classifications = {}\n",
    "            #####33\n",
    "            for i in range(self.k):\n",
    "                self.classifications[i] = []\n",
    "                ####3\n",
    "            for featureset in data:\n",
    "                distances = [np.linalg.norm(featureset-self.centroids[centroid]) for centroid in self.centroids]\n",
    "                classification = distances.index(min(distances))\n",
    "                self.classifications[classification].append(featureset)\n",
    "            prev_centroids = dict(self.centroids)\n",
    "            for classification in self.classifications:\n",
    "                self.centroids[classification] = np.average(self.classifications[classification],axis=0)\n",
    "                ####333\n",
    "            optimized = True\n",
    "            #####3\n",
    "            for c in self.centroids:\n",
    "                original_centroid = prev_centroids[c]\n",
    "                current_centroid = self.centroids[c]\n",
    "                if np.sum((current_centroid-original_centroid)/original_centroid*100.0) > self.tol:\n",
    "                    optimized = False\n",
    "                    ####333\n",
    "            if optimized:\n",
    "                break\n",
    "                ####333\n",
    "    def predict(self,data):\n",
    "        distances = [np.linalg.norm(data-self.centroids[centroid]) for centroid in self.centroids]\n",
    "        classification = distances.index(min(distances))\n",
    "        return classification\n",
    "        ##3333"
   ]
  },
  {
   "cell_type": "code",
   "execution_count": 25,
   "metadata": {},
   "outputs": [
    {
     "data": {
      "image/png": "[encoded data removed]",
      "text/plain": [
       "<Figure size 432x288 with 1 Axes>"
      ]
     },
     "metadata": {
      "needs_background": "light"
     },
     "output_type": "display_data"
    }
   ],
   "source": [
    "clf = k_means()\n",
    "clf.fit(X)\n",
    "for classification in clf.classifications:\n",
    "    color = colors[classification]\n",
    "    for featureset in clf.classifications[classification]:\n",
    "        plt.subplot(1,2,2)\n",
    "        plt.scatter(featureset[0], featureset[1], color=color, s=40, linewidths=5)\n",
    "\n",
    "for centroid in clf.centroids:\n",
    "    plt.scatter(clf.centroids[centroid][0], clf.centroids[centroid][1],\n",
    "                marker=\"o\", color=\"k\", s=40, linewidths=5)\n",
    "plt.title('despues')\n",
    "plt.show()"
   ]
  },
  {
   "cell_type": "code",
   "execution_count": null,
   "metadata": {},
   "outputs": [],
   "source": []
  }
 ],
 "metadata": {
  "kernelspec": {
   "display_name": "Python 3",
   "language": "python",
   "name": "python3"
  },
  "language_info": {
   "codemirror_mode": {
    "name": "ipython",
    "version": 3
   },
   "file_extension": ".py",
   "mimetype": "text/x-python",
   "name": "python",
   "nbconvert_exporter": "python",
   "pygments_lexer": "ipython3",
   "version": "3.6.7"
  }
 },
 "nbformat": 4,
 "nbformat_minor": 2
}
